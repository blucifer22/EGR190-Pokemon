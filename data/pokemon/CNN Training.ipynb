{
 "cells": [
  {
   "cell_type": "markdown",
   "metadata": {},
   "source": [
    "# This notebook trains the CNN model"
   ]
  },
  {
   "cell_type": "markdown",
   "metadata": {},
   "source": [
    "## First we transform the training images into a 4D array"
   ]
  },
  {
   "cell_type": "code",
   "execution_count": 93,
   "metadata": {},
   "outputs": [],
   "source": [
    "import tensorflow as tf\n",
    "from tensorflow import keras\n",
    "from tensorflow.keras.models import load_model\n",
    "import h5py\n",
    "import numpy as np\n",
    "import matplotlib.pyplot as plt\n",
    "import os\n",
    "import cv2\n",
    "import PIL\n",
    "from PIL import Image\n",
    "from tqdm import tqdm\n",
    "os.environ['KMP_DUPLICATE_LIB_OK']='True'\n",
    "\n",
    "PATH = os.getcwd()\n"
   ]
  },
  {
   "cell_type": "markdown",
   "metadata": {},
   "source": [
    "### Returns all filenames in a directory"
   ]
  },
  {
   "cell_type": "code",
   "execution_count": 24,
   "metadata": {},
   "outputs": [],
   "source": [
    "def mylistdir(directory):\n",
    "    \"\"\"A specialized version of os.listdir() that ignores files that\n",
    "    start with a leading period.\"\"\"\n",
    "    filelist = os.listdir(directory)\n",
    "    return [x for x in filelist\n",
    "            if not (x.startswith('.'))]\n",
    "\n"
   ]
  },
  {
   "cell_type": "markdown",
   "metadata": {},
   "source": [
    "### Initializes a side length of 50 pixels"
   ]
  },
  {
   "cell_type": "code",
   "execution_count": 46,
   "metadata": {},
   "outputs": [],
   "source": [
    "allImg = []\n"
   ]
  },
  {
   "cell_type": "markdown",
   "metadata": {},
   "source": [
    "### Flatten all images in the folder"
   ]
  },
  {
   "cell_type": "code",
   "execution_count": 112,
   "metadata": {},
   "outputs": [
    {
     "name": "stderr",
     "output_type": "stream",
     "text": [
      "\n",
      "  0%|          | 0/819 [00:00<?, ?it/s]\u001b[A\n",
      "  0%|          | 3/819 [00:00<00:29, 27.80it/s]\u001b[A\n",
      "  1%|          | 7/819 [00:00<00:27, 29.82it/s]\u001b[A\n",
      "  1%|▏         | 11/819 [00:00<00:25, 31.78it/s]\u001b[A\n",
      "  2%|▏         | 16/819 [00:00<00:24, 33.01it/s]\u001b[A\n",
      "  2%|▏         | 20/819 [00:00<00:24, 32.25it/s]\u001b[A\n",
      "  3%|▎         | 24/819 [00:00<00:23, 33.95it/s]\u001b[A\n",
      "  3%|▎         | 28/819 [00:00<00:24, 32.84it/s]\u001b[A\n",
      "  4%|▍         | 35/819 [00:00<00:20, 37.72it/s]\u001b[A\n",
      "  5%|▍         | 40/819 [00:01<00:19, 39.17it/s]\u001b[A\n",
      "  5%|▌         | 45/819 [00:01<00:19, 39.65it/s]\u001b[A\n",
      "  6%|▌         | 51/819 [00:01<00:19, 38.60it/s]\u001b[A\n",
      "  7%|▋         | 55/819 [00:01<00:24, 31.13it/s]\u001b[A\n",
      "  7%|▋         | 59/819 [00:01<00:24, 31.25it/s]\u001b[A\n",
      "  8%|▊         | 63/819 [00:01<00:28, 26.68it/s]\u001b[A\n",
      "  8%|▊         | 66/819 [00:01<00:28, 26.04it/s]\u001b[A\n",
      "  8%|▊         | 69/819 [00:02<00:28, 26.37it/s]\u001b[A\n",
      "  9%|▉         | 72/819 [00:02<00:28, 26.64it/s]\u001b[A\n",
      "  9%|▉         | 77/819 [00:02<00:25, 29.54it/s]\u001b[A\n",
      " 10%|▉         | 81/819 [00:02<00:27, 27.25it/s]\u001b[A\n",
      " 10%|█         | 84/819 [00:02<00:26, 27.88it/s]\u001b[A\n",
      " 11%|█         | 89/819 [00:02<00:23, 30.62it/s]\u001b[A\n",
      " 11%|█▏        | 93/819 [00:02<00:23, 30.82it/s]\u001b[A\n",
      "100%|██████████| 819/819 [00:03<00:00, 263.47it/s]A\n"
     ]
    }
   ],
   "source": [
    "SIDE = 50\n",
    "count = 0\n",
    "allImg = []\n",
    "allLabels = []\n",
    "fileNames = mylistdir(os.path.join(PATH, \"base_pokemon\"))\n",
    "#fileNames.sort(key=lambda f: int(filter(str.isdigit, f)))\n",
    "#print(fileNames)\n",
    "for img in tqdm(fileNames):\n",
    "    if count < 100: \n",
    "        #print(img)\n",
    "        #print(count)\n",
    "        path = os.path.join(PATH, \"base_pokemon\")\n",
    "        #print(img)\n",
    "        img_array = cv2.imread(os.path.join(path, img))\n",
    "        #plt.imshow(img_array, cmap=\"gray\")\n",
    "        img_array = 1 - img_array/255.0\n",
    "        #print(img_array)\n",
    "        img_array = cv2.resize(img_array, (SIDE, SIDE))\n",
    "        #plt.imshow(img_array, cmap=\"gray\")\n",
    "        allImg.append(img_array)\n",
    "        #plt.show()\n",
    "        #results = model.predict(test_images)\n",
    "        count += 1"
   ]
  },
  {
   "cell_type": "markdown",
   "metadata": {},
   "source": [
    "### Add all images into an array to form the 4D training set"
   ]
  },
  {
   "cell_type": "code",
   "execution_count": 113,
   "metadata": {},
   "outputs": [],
   "source": [
    "trainArray = np.concatenate([arr[np.newaxis] for arr in allImg])"
   ]
  },
  {
   "cell_type": "code",
   "execution_count": 114,
   "metadata": {},
   "outputs": [
    {
     "data": {
      "text/plain": [
       "(100, 50, 50, 3)"
      ]
     },
     "execution_count": 114,
     "metadata": {},
     "output_type": "execute_result"
    }
   ],
   "source": [
    "trainArray.shape"
   ]
  },
  {
   "cell_type": "code",
   "execution_count": null,
   "metadata": {},
   "outputs": [],
   "source": []
  }
 ],
 "metadata": {
  "kernelspec": {
   "display_name": "Python 3",
   "language": "python",
   "name": "python3"
  },
  "language_info": {
   "codemirror_mode": {
    "name": "ipython",
    "version": 3
   },
   "file_extension": ".py",
   "mimetype": "text/x-python",
   "name": "python",
   "nbconvert_exporter": "python",
   "pygments_lexer": "ipython3",
   "version": "3.6.9"
  }
 },
 "nbformat": 4,
 "nbformat_minor": 2
}
